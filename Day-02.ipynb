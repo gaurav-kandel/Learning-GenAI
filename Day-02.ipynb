{
 "cells": [
  {
   "cell_type": "code",
   "execution_count": 5,
   "metadata": {},
   "outputs": [],
   "source": [
    "# Working with Ollama\n",
    "\n",
    "import requests\n",
    "from bs4 import BeautifulSoup\n",
    "from IPython.display import Markdown, display"
   ]
  },
  {
   "cell_type": "code",
   "execution_count": 6,
   "metadata": {},
   "outputs": [],
   "source": [
    "# Constants\n",
    "\n",
    "OLLAMA_API = \"http://localhost:11434/api/chat\"\n",
    "HEADERS = {\"Content-Type\": \"application/json\"}\n",
    "MODEL = \"gemma2:2b\""
   ]
  },
  {
   "cell_type": "code",
   "execution_count": 7,
   "metadata": {},
   "outputs": [],
   "source": [
    "# Create a messages list using the same format that we used for OpenAI\n",
    "\n",
    "messages = [\n",
    "    {\"role\": \"user\", \"content\": \"Describe some of the business applications of Generative AI\"}\n",
    "]"
   ]
  },
  {
   "cell_type": "code",
   "execution_count": 8,
   "metadata": {},
   "outputs": [],
   "source": [
    "payload = {\n",
    "        \"model\": MODEL,\n",
    "        \"messages\": messages,\n",
    "        \"stream\": False\n",
    "    }"
   ]
  },
  {
   "cell_type": "code",
   "execution_count": 9,
   "metadata": {},
   "outputs": [
    {
     "name": "stdout",
     "output_type": "stream",
     "text": [
      "Generative AI is rapidly changing the landscape of various industries, offering exciting new applications for businesses. Here are some examples:\n",
      "\n",
      "**Content Creation and Marketing:**\n",
      "\n",
      "* **Content Generation:**  Auto-generate high-quality marketing content like blog posts, social media updates, ad copy, product descriptions, scripts, etc., freeing up time for marketers. \n",
      "* **Personalized Content:** Tailor marketing messages based on customer data and preferences using AI to create personalized experiences.\n",
      "* **Creative Asset Creation:** Generate images, videos, audio clips, graphics, and even entire visual narratives using AI tools like DALL-E 2, Midjourney, or Stable Diffusion. This opens doors for:\n",
      "    * **Design agencies:** Create mockups, branding assets, and unique visuals with minimal human effort.\n",
      "    * **Marketing teams:** Develop impactful campaigns quickly without relying solely on traditional art processes.\n",
      "* **Chatbot Development:** Craft interactive chatbots that can handle customer inquiries, provide information, and offer personalized support 24/7.\n",
      "\n",
      "**Product Design and Engineering:**\n",
      "\n",
      "* **Design Prototyping:** Generate product designs quickly with AI-powered tools based on user input or specific requirements. This speeds up the design process and allows for faster iteration of ideas.\n",
      "* **Manufacturing Optimization:**  Use generative AI to optimize manufacturing processes, reduce waste, identify potential bottlenecks, and predict failures. \n",
      "* **3D Modeling & Simulation:** Create realistic 3D models of products and environments, analyze their behavior in different situations using simulations, and test prototypes virtually before physical production.\n",
      "\n",
      "**Customer Service and Support:**\n",
      "\n",
      "* **Automated Ticket Resolution:**  AI-powered chatbots can handle basic customer queries, diagnose issues, and provide solutions based on pre-existing knowledge databases.\n",
      "* **Personalized Customer Interactions:** Generate personalized responses to customer inquiries and offer tailored recommendations based on their past behavior and preferences. \n",
      "* **Proactive Support:** Predict potential issues before they arise and proactively offer support with automated notifications or preemptive solutions.\n",
      "\n",
      "**Education & Training:**\n",
      "\n",
      "* **AI-Powered Educational Resources:** Create interactive learning materials, personalize educational content, and generate quizzes and assessments to engage students in a more dynamic way.\n",
      "* **Adaptive Learning Platforms:**  Develop personalized learning pathways based on individual student needs and progress, offering real-time feedback and adjustments.\n",
      "\n",
      "**Research & Development:**\n",
      "\n",
      "* **Accelerated Scientific Discovery:** Use generative AI to analyze massive datasets from experiments, simulations, or literature searches to identify potential breakthroughs in research areas like medicine, materials science, or climate change.\n",
      "* **Automated Data Analysis:** Generate insights from complex data sets, create visualizations, and identify patterns that humans might miss, leading to faster decision-making.\n",
      "\n",
      "**Challenges & Considerations:**\n",
      "\n",
      "While Generative AI offers tremendous potential, businesses need to consider:\n",
      "\n",
      "* **Ethical Implications:**  Addressing potential biases in training data and ensuring responsible usage of AI.\n",
      "* **Data Security and Privacy:** Implementing strong security measures to protect sensitive customer information and prevent misuse of data.\n",
      "* **Human-AI Collaboration:** Establishing clear lines between human oversight and AI automation for optimal use and continued innovation.\n",
      "\n",
      "Generative AI is a rapidly evolving field with countless applications across various industries.  By embracing this technology, businesses can unlock new levels of creativity, efficiency, and innovation, shaping the future of their operations. \n",
      "\n"
     ]
    }
   ],
   "source": [
    "response = requests.post(OLLAMA_API, json=payload, headers=HEADERS)\n",
    "print(response.json()['message']['content'])"
   ]
  },
  {
   "cell_type": "markdown",
   "metadata": {},
   "source": [
    "# Introducing the ollama package\n",
    "\n",
    "And now we'll do the same thing, but using the elegant ollama python package instead of a direct HTTP call.\n",
    "\n",
    "Under the hood, it's making the same call as above to the ollama server running at localhost:11434"
   ]
  },
  {
   "cell_type": "code",
   "execution_count": 10,
   "metadata": {},
   "outputs": [
    {
     "name": "stdout",
     "output_type": "stream",
     "text": [
      "Generative AI, with its ability to create realistic and dynamic content, has a wide range of applications in businesses across various sectors.  Here's a glimpse:\n",
      "\n",
      "**Content Creation & Marketing:**\n",
      "\n",
      "* **Marketing Materials Generation:** Generate product descriptions, ad copy, social media posts, email newsletters, landing pages, and even personalized marketing emails with specific targeting. \n",
      "* **Personalized Content:**  Create tailored content for individual customers based on their preferences and past interactions, resulting in better engagement and conversions.\n",
      "* **Content Moderation & Automation:** Filter out spam, identify plagiarism, and generate summaries of lengthy documents, saving time and resources.\n",
      "\n",
      "**Product Development & Design:**\n",
      "\n",
      "* **Product Design:** Generate 3D models and prototypes, explore design variations, and accelerate product development cycles with AI-powered assistance.  \n",
      "* **User Interface (UI) & User Experience (UX) Design:** Create custom user interface elements, optimize layouts for usability, and enhance the overall user experience.\n",
      "* **Visual Content Creation:** Generate realistic images, illustrations, graphics, and videos to be used in marketing materials or product demonstrations. \n",
      "\n",
      "**Customer Service & Operations:**\n",
      "\n",
      "* **Chatbots & Virtual Assistants:** Develop intelligent chatbots that can answer customer queries, provide product information, and even offer personalized recommendations, freeing up human agents for more complex tasks.\n",
      "* **Automated Documentation:** Generate help articles, FAQs, and other forms of documentation based on user interactions and feedback. \n",
      "* **Personalized Recommendations:** Analyze customer data to suggest relevant products, services, or content, driving engagement and sales.\n",
      "\n",
      "**Education & Training:**\n",
      "\n",
      "* **Educational Content Creation:**  Generate educational materials like interactive quizzes, learning simulations, and even personalized study plans for students.\n",
      "* **AI-powered Tutoring:** Develop intelligent tutoring systems that adapt to individual learner needs, provide real-time feedback, and help students learn more effectively.\n",
      "* **Simulations & Training Materials:** Create realistic simulations of real-world scenarios to train employees on new products or processes in a safe and controlled environment. \n",
      "\n",
      "**Healthcare & Research:**\n",
      "\n",
      "* **Drug Discovery & Development:** Generate molecules and test their properties to discover potential new drugs, accelerate the research process.\n",
      "* **Patient Treatment Planning:** Develop personalized treatment plans based on patient data, considering factors like genetic information and lifestyle choices for more effective therapies.\n",
      "* **Medical Imaging Analysis:** Analyze medical images to identify abnormalities, predict diseases, and assist doctors in making diagnoses faster and more accurately.\n",
      "\n",
      "**Creative Industries:**\n",
      "\n",
      "* **Music & Arts Generation:** Create original music, art pieces, and even video game content that can inspire artists and spark creative thinking. \n",
      "* **Storytelling & Scriptwriting:** Develop engaging narratives for films, TV shows, and other mediums, leveraging AI's ability to understand human emotions and create compelling stories.\n",
      "\n",
      "\n",
      "**Challenges & Considerations:**\n",
      "\n",
      "While generative AI offers tremendous potential, its application in business requires careful consideration of ethical implications:\n",
      "\n",
      "* **Copyright & Ownership:**  Understanding the legal and intellectual property rights surrounding content generated by AI is crucial. \n",
      "* **Transparency & Explainability:** Ensuring that AI models' decisions are transparent and explainable can build trust with customers and users.\n",
      "* **Bias Mitigation:** Addressing potential biases in training data to avoid perpetuating existing inequalities in technology use.\n",
      "\n",
      "\n",
      "**The Future of Generative AI in Business:**\n",
      "\n",
      "Generative AI is still evolving, but its impact on businesses is undeniable.  Companies that adapt to embrace this powerful tool will gain a competitive advantage as they explore innovative solutions and enhance customer experiences.  \n",
      "\n"
     ]
    }
   ],
   "source": [
    "import ollama\n",
    "\n",
    "response = ollama.chat(model=MODEL, messages=messages)\n",
    "print(response['message']['content'])"
   ]
  },
  {
   "cell_type": "markdown",
   "metadata": {},
   "source": [
    "## Alternative approach - using OpenAI python library to connect to Ollama"
   ]
  },
  {
   "cell_type": "code",
   "execution_count": 11,
   "metadata": {},
   "outputs": [
    {
     "name": "stdout",
     "output_type": "stream",
     "text": [
      "Generative AI is revolutionizing many industries, driving innovation and improving efficiency like never before. Here are some of its key business application areas:\n",
      "\n",
      "**1. Content & Creative:**\n",
      "\n",
      "* **Content Creation:** Generate blog posts, website copy, social media content, creative briefs, ad scripts, marketing materials, and product descriptions using AI.\n",
      "* **Translation & Localization:** Translate documents effectively across different languages with human-like fluency, even in complex contexts (legal, technical, etc.). \n",
      "* **Content Optimization:** Write better headlines, improve engagement metrics, analyze audience sentiment in content. \n",
      "* **Image & Video Generation:** Create realistic visuals for social media, advertising campaigns, and product presentations using AI image and video generation tools.\n",
      "* **Music composition & Sound design:** Generate original music across genres, add emotion or moods to scenes through voice-to-music conversion.\n",
      "\n",
      "**2. Marketing & Sales:** \n",
      "\n",
      "* **Customer Engagement**:  Personalized recommendations for products and services based on user behavior (e.g., website browsing history), automate social media interactions (response to inquiries).\n",
      "* **Lead Generation**: Build targeted email campaigns, create engaging ad copy, generate leads from chatbots that can answer pre-defined questions.\n",
      "\n",
      "\n",
      "**3. Operations & Productivity:**\n",
      "\n",
      "* **Code Generation:** Generate boilerplate or code for repetitive coding tasks like creating web pages, setting up basic applications on servers, etc., making development faster and more efficient.\n",
      "* **Research & Data Analysis:**  Extract insights from data sets, identify trends, generate predictions, and automate business reporting to reduce human effort and time consumption on manual analysis.\n",
      "* **Customer Service & Support:** Develop virtual assistants that can handle simple queries with natural language processing (NLP), analyze chat logs for valuable information about customer issues and support requests for quick and personalized solutions.\n",
      "\n",
      "**4. Design & Innovation:** \n",
      "\n",
      "* **Personalized Products:** Generate prototypes and designs based on user specifications, explore new product features or design variations to increase efficiency.\n",
      "* **Simulation & Experimentation**: Simulate different scenarios and test virtual products in real-time environments for market testing, faster feedback, reduced development costs and time wasted on physical prototyping.\n",
      "\n",
      "\n",
      "**5. Business Analytics:**\n",
      "\n",
      "* Analyze data from various sources like customer demographics, market trends, and user surveys using AI to provide better predictions and insights leading to informed decision-making processes. \n",
      "* **Fraud Detection**: Identify potential fraudulent transactions in real-time using behavioral profiling based on user activity patterns.\n",
      "\n",
      "\n",
      "\n",
      " **Examples:**\n",
      "\n",
      "* **Netflix**: Uses AI to personalize movie / TV show recommendations for viewers based on their viewing history. \n",
      "* **Wix** and **Squarespace**: Utilize Generative AI for content creation (text, images and video) to help users design websites faster and more efficiently.\n",
      "* **Adobe Creative Cloud**: Revolutionizes content creation with tools like Adobe Firefly, generating realistic visuals, effects, and text art with a simple click.\n",
      "\n",
      "These are just some of the many potential applications of generative AI in businesses. \n",
      "\n",
      "\n",
      "As AI technology continues to evolve, we can expect even more groundbreaking innovations in business applications that will reshape industries and unlock new levels of efficiency, creativity, innovation, and productivity. \n",
      "\n"
     ]
    }
   ],
   "source": [
    "# There's actually an alternative approach that some people might prefer\n",
    "# You can use the OpenAI client python library to call Ollama:\n",
    "\n",
    "from openai import OpenAI\n",
    "ollama_via_openai = OpenAI(base_url='http://localhost:11434/v1', api_key='ollama')\n",
    "\n",
    "response = ollama_via_openai.chat.completions.create(\n",
    "    model=MODEL,\n",
    "    messages=messages\n",
    ")\n",
    "\n",
    "print(response.choices[0].message.content)"
   ]
  }
 ],
 "metadata": {
  "kernelspec": {
   "display_name": "genaienv",
   "language": "python",
   "name": "python3"
  },
  "language_info": {
   "codemirror_mode": {
    "name": "ipython",
    "version": 3
   },
   "file_extension": ".py",
   "mimetype": "text/x-python",
   "name": "python",
   "nbconvert_exporter": "python",
   "pygments_lexer": "ipython3",
   "version": "3.10.15"
  }
 },
 "nbformat": 4,
 "nbformat_minor": 2
}
